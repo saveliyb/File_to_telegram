{
  "nbformat": 4,
  "nbformat_minor": 0,
  "metadata": {
    "colab": {
      "provenance": [],
      "authorship_tag": "ABX9TyNIMKfvA58iIp4M4cVTzJHU",
      "include_colab_link": true
    },
    "kernelspec": {
      "name": "python3",
      "display_name": "Python 3"
    },
    "language_info": {
      "name": "python"
    }
  },
  "cells": [
    {
      "cell_type": "markdown",
      "metadata": {
        "id": "view-in-github",
        "colab_type": "text"
      },
      "source": [
        "<a href=\"https://colab.research.google.com/github/saveliyb/File_to_telegram/blob/main/Notebook.ipynb\" target=\"_parent\"><img src=\"https://colab.research.google.com/assets/colab-badge.svg\" alt=\"Open In Colab\"/></a>"
      ]
    },
    {
      "cell_type": "code",
      "execution_count": 1,
      "metadata": {
        "id": "tFW5g-rE7o4m"
      },
      "outputs": [],
      "source": [
        "import requests\n",
        "import pandas as pd\n",
        "import matplotlib.pyplot as plt\n",
        "import os"
      ]
    },
    {
      "cell_type": "code",
      "source": [
        "def get_json(url: str):\n",
        "    r = requests.get(url)\n",
        "    return r.json()"
      ],
      "metadata": {
        "id": "V6Ggvn5t7s4H"
      },
      "execution_count": 2,
      "outputs": []
    },
    {
      "cell_type": "code",
      "source": [
        "filedir = \"plots\\\\\""
      ],
      "metadata": {
        "id": "fF-OcOyu7ydo"
      },
      "execution_count": 3,
      "outputs": []
    },
    {
      "cell_type": "code",
      "source": [
        "class DrawningGrph:\n",
        "    @staticmethod\n",
        "    def draw_plots(file_name: str = \"output.png\", legend: list = list(), **data):\n",
        "        y_axis: list = [data[x] for x in data]\n",
        "        x = [i for i in range(len(y_axis[0]))]\n",
        "\n",
        "        plt.figure(figsize=(100, 10))\n",
        "\n",
        "        for i in range(len(y_axis)):\n",
        "            plt.plot(x, y_axis[i], marker=\"*\", label=legend[i])\n",
        "        plt.legend()\n",
        "        return DrawningGrph.save_plot(plt, file_name)\n",
        "\n",
        "    @staticmethod\n",
        "    def save_plot(plt, file_name):\n",
        "        plt.savefig(file_name)\n",
        "        plt.close()\n",
        "        return str(os.getcwd()) + f\"\\\\{file_name}\""
      ],
      "metadata": {
        "id": "7TELSgjU70Ph"
      },
      "execution_count": 4,
      "outputs": []
    },
    {
      "cell_type": "code",
      "source": [
        "df = pd.DataFrame().from_dict(get_json(\"https://ai-process-sandy.s3.eu-west-1.amazonaws.com/purge/deviation.json\"))"
      ],
      "metadata": {
        "id": "4a9YJ2iV78Ow"
      },
      "execution_count": 5,
      "outputs": []
    },
    {
      "cell_type": "code",
      "source": [
        "gt_corners = df.loc[:, \"gt_corners\"].tolist()\n",
        "rb_corners = df.loc[:, \"rb_corners\"].tolist()\n",
        "\n",
        "print(DrawningGrph.draw_plots(gt_corners=gt_corners, rb_corners=rb_corners,\n",
        "                              file_name=f\"{filedir}corners.png\",\n",
        "                              legend=[\"gt_corners\", \"rb_corners\"]))"
      ],
      "metadata": {
        "colab": {
          "base_uri": "https://localhost:8080/"
        },
        "id": "x-pcY-rd7-U5",
        "outputId": "9dbbc7d1-6d1f-40c4-e46a-79e8a1ea51fc"
      },
      "execution_count": 7,
      "outputs": [
        {
          "output_type": "stream",
          "name": "stdout",
          "text": [
            "/content\\plots\\corners.png\n"
          ]
        }
      ]
    },
    {
      "cell_type": "code",
      "source": [
        "mean = df.loc[:, \"mean\"].tolist()\n",
        "max = df.loc[:, \"max\"].tolist()\n",
        "min = df.loc[:, \"min\"].tolist()\n",
        "\n",
        "print(DrawningGrph.draw_plots(mean=mean, max=max, min=min, file_name=f\"{filedir}deviation.png\", legend=[\"mean\", \"max\", \"min\"]))"
      ],
      "metadata": {
        "colab": {
          "base_uri": "https://localhost:8080/"
        },
        "id": "pfbV9p728GAt",
        "outputId": "057b938d-5621-4b44-fe58-c6dbda9e9afe"
      },
      "execution_count": 8,
      "outputs": [
        {
          "output_type": "stream",
          "name": "stdout",
          "text": [
            "/content\\plots\\deviation.png\n"
          ]
        }
      ]
    },
    {
      "cell_type": "code",
      "source": [
        "floor_mean = df.loc[:, \"floor_mean\"].tolist()\n",
        "floor_max = df.loc[:, \"floor_max\"].tolist()\n",
        "floor_min = df.loc[:, \"floor_min\"].tolist()\n",
        "\n",
        "print(DrawningGrph.draw_plots(floor_mean=floor_mean, floor_max=floor_max, floor_min=floor_min, file_name=f\"{filedir}floor.png\", legend=[\"floor_mean\", \"floor_max\", \"floor_min\"]))"
      ],
      "metadata": {
        "colab": {
          "base_uri": "https://localhost:8080/"
        },
        "id": "TY2pDITc8NQG",
        "outputId": "37292c49-3916-41d5-ac09-4a2e12f27832"
      },
      "execution_count": 9,
      "outputs": [
        {
          "output_type": "stream",
          "name": "stdout",
          "text": [
            "/content\\plots\\floor.png\n"
          ]
        }
      ]
    },
    {
      "cell_type": "code",
      "source": [
        "ceiling_mean = df.loc[:, \"ceiling_mean\"].tolist()\n",
        "ceiling_max = df.loc[:, \"ceiling_max\"].tolist()\n",
        "ceiling_min = df.loc[:, \"ceiling_min\"].tolist()\n",
        "\n",
        "print(DrawningGrph.draw_plots(ceiling_mean=ceiling_mean, ceiling_max=ceiling_max, ceiling_min=ceiling_min, file_name=f\"{filedir}ceiling.png\", legend=[\"ceiling_mean\", \"ceiling_max\", \"ceiling_min\"]))"
      ],
      "metadata": {
        "colab": {
          "base_uri": "https://localhost:8080/"
        },
        "id": "hrLByTCD8Ti_",
        "outputId": "3158658b-0c85-4de6-fee6-4be663270e67"
      },
      "execution_count": 10,
      "outputs": [
        {
          "output_type": "stream",
          "name": "stdout",
          "text": [
            "/content\\plots\\ceiling.png\n"
          ]
        }
      ]
    }
  ]
}